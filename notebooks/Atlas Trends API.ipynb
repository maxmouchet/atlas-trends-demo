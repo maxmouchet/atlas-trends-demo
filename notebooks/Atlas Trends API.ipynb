{
 "cells": [
  {
   "cell_type": "markdown",
   "metadata": {},
   "source": [
    "# Atlas Trends API demonstration\n",
    "\n",
    "The RIPE Atlas Trends API allows one to find patterns (*clusters*) in RIPE Atlas RTT measurements, in a way similar to what a human expert would do. The clustering is done using a nonparametric Bayesian model, the Hierarchical Dirichlet Process Hidden Markov Model (HDP-HMM).\n",
    "\n",
    "1. [Minimal Example](#Minimal-Example)\n",
    "1. [Examples](#Examples)\n",
    "1. [API Endpoints](#API-Endpoints)\n",
    "\n",
    "Notebook cells can be run by pressing <kbd>MAJ</kbd>+<kbd>Enter</kbd>."
   ]
  },
  {
   "cell_type": "code",
   "execution_count": null,
   "metadata": {},
   "outputs": [],
   "source": [
    "# Import the `trends` module that contains the API client and various utilities.\n",
    "try:\n",
    "    import google.colab, sys\n",
    "    !git clone https://github.com/maxmouchet/atlas-trends-demo.git\n",
    "    sys.path.append('atlas-trends-demo')\n",
    "except:\n",
    "    import sys; sys.path.append('..')"
   ]
  },
  {
   "cell_type": "code",
   "execution_count": null,
   "metadata": {},
   "outputs": [],
   "source": [
    "from trends import *"
   ]
  },
  {
   "cell_type": "code",
   "execution_count": null,
   "metadata": {},
   "outputs": [],
   "source": [
    "%matplotlib inline\n",
    "%config InlineBackend.figure_format = 'retina'\n",
    "set_mpl_style(font_size=12)"
   ]
  },
  {
   "cell_type": "markdown",
   "metadata": {},
   "source": [
    "## Minimal Example\n",
    "\n",
    "In this section we show the minimal code necessary to fetch a time series from the API and to display the segmentation."
   ]
  },
  {
   "cell_type": "code",
   "execution_count": null,
   "metadata": {},
   "outputs": [],
   "source": [
    "client = AtlasTrendsClient(verbose=True) # The `verbose` flag enables query time reporting."
   ]
  },
  {
   "cell_type": "code",
   "execution_count": null,
   "metadata": {},
   "outputs": [],
   "source": [
    "df = client.fetch_trends(\n",
    "    msm_id   = 1437285,                   # Atlas measurement ID\n",
    "    prb_id   = 6222,                      # Atlas probe ID\n",
    "    start_dt = utc_datetime(2018, 5, 2),  # (Optional) Default: stop date - 7 days\n",
    "    stop_dt  = utc_datetime(2018, 5, 10), # (Optional) Default: the current date\n",
    "    as_df    = True                       # (Optional) Returns a Pandas DataFrame instead of a JSON object\n",
    ")"
   ]
  },
  {
   "cell_type": "code",
   "execution_count": null,
   "metadata": {},
   "outputs": [],
   "source": [
    "df.head(3)"
   ]
  },
  {
   "cell_type": "code",
   "execution_count": null,
   "metadata": {},
   "outputs": [],
   "source": [
    "plot_trends(df)"
   ]
  },
  {
   "cell_type": "markdown",
   "metadata": {},
   "source": [
    "## Examples"
   ]
  },
  {
   "cell_type": "markdown",
   "metadata": {},
   "source": [
    "### Persistent Congestion"
   ]
  },
  {
   "cell_type": "code",
   "execution_count": null,
   "metadata": {},
   "outputs": [],
   "source": [
    "df = client.fetch_trends(1791307, 6042, start_dt=utc_datetime(2018,5,2), stop_dt=utc_datetime(2018,5,10), as_df=True)\n",
    "plot_trends(df)"
   ]
  },
  {
   "cell_type": "code",
   "execution_count": null,
   "metadata": {},
   "outputs": [],
   "source": [
    "plot_trends(df)\n",
    "plt.xlim(utc_datetime(2018, 5, 3, 10), utc_datetime(2018, 5, 6, 10));"
   ]
  },
  {
   "cell_type": "markdown",
   "metadata": {},
   "source": [
    "In this example some link on the path seems to experience periodic congestion in the evening.  \n",
    "*(Ticks on the x-axis corresponds to midnight UTC time).*\n",
    "\n",
    "The green state which lasts for 40 minutes on average seems to correspond to a state where the traffic level is high but the link is not saturated.  \n",
    "The pink state which lasts for 2h45 on average seems to correspond to a saturated link.  "
   ]
  },
  {
   "cell_type": "code",
   "execution_count": null,
   "metadata": {},
   "outputs": [],
   "source": [
    "plt.figure(figsize=(4, 2.5))\n",
    "plot_kde(df, states=[3, 6])\n",
    "plt.legend(['pre-congestion state', 'congestion state']);"
   ]
  },
  {
   "cell_type": "markdown",
   "metadata": {},
   "source": [
    "## API Endpoints\n",
    "\n",
    "The API base URL is https://trends.atlas.ripe.net/api/v1/.\n",
    "\n",
    "The API offers 3 endpoints:\n",
    "\n",
    "Method | Path | Parameters | Description | Example\n",
    ":------|:-----|:-----------|:------------|:-------\n",
    "GET | **`/trends/:msm_id/:prb_id`** | `start`, `stop` | Segment a time series and returns the RTT and its associated state | [/trends/1437285/6222?start=1525212000&stop=1525298400](https://trends.atlas.ripe.net/api/v1/trends/1437285/6222?start=1525212000&stop=1525298400)\n",
    "GET | **`/trends/:msm_id/:prb_id/summary`** | `start`, `stop` | Segment a time series and return the segments | [/trends/1437285/6222/summary?start=1525212000&stop=1525298400](https://trends.atlas.ripe.net/api/v1/trends/1437285/6222/summary?start=1525212000&stop=1525298400)\n",
    "GET | **`/ticks/:msm_id/:prb_id`** | `start`, `stop` | Output the ticks (with deduplication, ...) | [/ticks/1437285/6222?start=1525212000&stop=1525298400](https://trends.atlas.ripe.net/api/v1/ticks/1437285/6222?start=1525212000&stop=1525298400)\n",
    "\n",
    "- Start and stop date are UTC time and can be specified as a Unix timestamp or as `YYYY-MM-DDTHH:MM` where `THH:MM` is optional (default to start of day).\n",
    "- It will not work for durations longer than a month, or shorter than a 100 ticks (runs of the measurements, so for a measurement that runs every 4 minutes (the default) this will amount to at least 400 minutes).\n",
    "- Segmentation takes a time linear with the number of observations."
   ]
  },
  {
   "cell_type": "code",
   "execution_count": null,
   "metadata": {},
   "outputs": [],
   "source": [
    "client = AtlasTrendsClient()"
   ]
  },
  {
   "cell_type": "code",
   "execution_count": null,
   "metadata": {},
   "outputs": [],
   "source": [
    "query = {\n",
    "    'msm_id':   1437285,\n",
    "    'prb_id':   6222,\n",
    "    'start_dt': utc_datetime(2018, 5, 2),\n",
    "    'stop_dt':  utc_datetime(2018, 5, 2, 12)\n",
    "}"
   ]
  },
  {
   "cell_type": "markdown",
   "metadata": {},
   "source": [
    "**`Ticks` endpoint**\n",
    "\n",
    "The `/ticks` endpoint returns the minimum RTT for a given pair with a constant time interval (duplicated results due to probes connectivity problems are suppressed, and missing results are explicitly inserted)."
   ]
  },
  {
   "cell_type": "code",
   "execution_count": null,
   "metadata": {},
   "outputs": [],
   "source": [
    "res = client.fetch_ticks(**query)\n",
    "schema = res['metadata']['schema']\n",
    "print(schema)"
   ]
  },
  {
   "cell_type": "code",
   "execution_count": null,
   "metadata": {},
   "outputs": [],
   "source": [
    "for (i, result) in enumerate(res['results'][:2]):\n",
    "    print('\\nResult #{}'.format(i))\n",
    "    for (key, value) in zip(schema, result):\n",
    "        print('- {} = {}'.format(key, value))"
   ]
  },
  {
   "cell_type": "markdown",
   "metadata": {},
   "source": [
    "**`Trends` endpoint**\n",
    "\n",
    "The `/trends` endpoint returns the minimum RTT and the associated segmentation."
   ]
  },
  {
   "cell_type": "code",
   "execution_count": null,
   "metadata": {},
   "outputs": [],
   "source": [
    "res = client.fetch_trends(**query)\n",
    "schema = res['metadata']['schema']\n",
    "print(schema)"
   ]
  },
  {
   "cell_type": "code",
   "execution_count": null,
   "metadata": {},
   "outputs": [],
   "source": [
    "for (i, result) in enumerate(res['results'][:2]):\n",
    "    print('\\nResult #{}'.format(i))\n",
    "    for (key, value) in zip(schema, result):\n",
    "        print('- {} = {}'.format(key, value))"
   ]
  },
  {
   "cell_type": "markdown",
   "metadata": {},
   "source": [
    "**`Summary` endpoint**\n",
    "\n",
    "A summary of the time series can also be requested by appending `/summary` to the path."
   ]
  },
  {
   "cell_type": "code",
   "execution_count": null,
   "metadata": {},
   "outputs": [],
   "source": [
    "res = client.fetch_summary(**query)"
   ]
  },
  {
   "cell_type": "code",
   "execution_count": null,
   "metadata": {},
   "outputs": [],
   "source": [
    "res['states']"
   ]
  },
  {
   "cell_type": "code",
   "execution_count": null,
   "metadata": {},
   "outputs": [],
   "source": [
    "res['segments']"
   ]
  },
  {
   "cell_type": "markdown",
   "metadata": {},
   "source": [
    "### DataFrame conversion\n",
    "\n",
    "*Ticks* and *trends* results can be easily converted to a [Pandas](https://pandas.pydata.org/) DataFrame, either by using the `to_dataframe` method, or by using the `as_df` parameter."
   ]
  },
  {
   "cell_type": "code",
   "execution_count": null,
   "metadata": {},
   "outputs": [],
   "source": [
    "res = client.fetch_trends(**query)\n",
    "to_dataframe(res).head(2)"
   ]
  },
  {
   "cell_type": "code",
   "execution_count": null,
   "metadata": {},
   "outputs": [],
   "source": [
    "client.fetch_trends(**query, as_df=True).head(2)"
   ]
  },
  {
   "cell_type": "code",
   "execution_count": null,
   "metadata": {},
   "outputs": [],
   "source": []
  },
  {
   "cell_type": "code",
   "execution_count": null,
   "metadata": {},
   "outputs": [],
   "source": []
  },
  {
   "cell_type": "code",
   "execution_count": null,
   "metadata": {},
   "outputs": [],
   "source": []
  }
 ],
 "metadata": {
  "kernelspec": {
   "display_name": "Python 3",
   "language": "python",
   "name": "python3"
  },
  "language_info": {
   "codemirror_mode": {
    "name": "ipython",
    "version": 3
   },
   "file_extension": ".py",
   "mimetype": "text/x-python",
   "name": "python",
   "nbconvert_exporter": "python",
   "pygments_lexer": "ipython3",
   "version": "3.7.1"
  }
 },
 "nbformat": 4,
 "nbformat_minor": 2
}
